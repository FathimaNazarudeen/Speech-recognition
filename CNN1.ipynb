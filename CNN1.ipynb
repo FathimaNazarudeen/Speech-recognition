{
  "nbformat": 4,
  "nbformat_minor": 0,
  "metadata": {
    "colab": {
      "provenance": [],
      "mount_file_id": "1Uh9ve3Q2R9y0X7FgZNNZH96_bceESZau",
      "authorship_tag": "ABX9TyM6IfxtI2FfTuZ9JwvZjdEB",
      "include_colab_link": true
    },
    "kernelspec": {
      "name": "python3",
      "display_name": "Python 3"
    },
    "language_info": {
      "name": "python"
    }
  },
  "cells": [
    {
      "cell_type": "markdown",
      "metadata": {
        "id": "view-in-github",
        "colab_type": "text"
      },
      "source": [
        "<a href=\"https://colab.research.google.com/github/FathimaNazarudeen/Speech-recognition/blob/main/CNN1.ipynb\" target=\"_parent\"><img src=\"https://colab.research.google.com/assets/colab-badge.svg\" alt=\"Open In Colab\"/></a>"
      ]
    },
    {
      "cell_type": "code",
      "execution_count": null,
      "metadata": {
        "id": "h2Wnil--oAAS"
      },
      "outputs": [],
      "source": [
        "import librosa\n",
        "import librosa.display\n",
        "import numpy as np\n",
        "import matplotlib.pyplot as plt\n",
        "import tensorflow as tf\n",
        "from matplotlib.pyplot import specgram\n",
        "import pandas as pd\n",
        "import glob \n",
        "from sklearn.metrics import confusion_matrix\n",
        "import IPython.display as ipd  # To play sound in the notebook\n",
        "import os\n",
        "import sys\n",
        "import warnings\n",
        "# ignore warnings \n",
        "if not sys.warnoptions:\n",
        "    warnings.simplefilter(\"ignore\")\n",
        "warnings.filterwarnings(\"ignore\", category=DeprecationWarning) "
      ]
    },
    {
      "cell_type": "code",
      "source": [
        "Emotions= pd.read_csv('/content/drive/MyDrive/emotion (1).csv')\n",
        "Emotions.head()"
      ],
      "metadata": {
        "colab": {
          "base_uri": "https://localhost:8080/",
          "height": 299
        },
        "id": "-V_I44AZoHDA",
        "outputId": "b3684fdc-fd38-490b-8867-be53c4c54074"
      },
      "execution_count": null,
      "outputs": [
        {
          "output_type": "execute_result",
          "data": {
            "text/plain": [
              "            0           1         2          3          4         5  \\\n",
              "0 -258.990326  132.193741  5.314349  21.521330 -24.357752 -2.237025   \n",
              "1 -258.667152  132.047682  5.236842  21.529129 -24.335813 -2.170860   \n",
              "2 -301.181824  128.659897  4.380285   9.940308 -23.697367 -7.601327   \n",
              "3 -274.135437  142.405472 -2.322214  21.200804 -27.737436 -1.496183   \n",
              "4 -274.135437  142.405472 -2.322214  21.200804 -27.737436 -1.496183   \n",
              "\n",
              "           6          7          8         9  ...        31        32  \\\n",
              "0 -24.086287  -9.530801 -20.967497 -4.285268  ... -0.953883  1.146237   \n",
              "1 -24.135509  -9.465332 -20.959675 -4.215839  ... -0.906946  1.140402   \n",
              "2 -25.921268 -13.189119 -19.924520 -0.300373  ...  3.321182  3.191138   \n",
              "3 -26.762552 -10.112954 -21.643480 -3.658734  ... -1.149690  1.346368   \n",
              "4 -26.762552 -10.112954 -21.643480 -3.658734  ... -1.149690  1.346368   \n",
              "\n",
              "         33        34        35        36        37        38        39  \\\n",
              "0  1.829600  2.893938  1.310414  1.626812  2.758013  4.257873  3.918041   \n",
              "1  1.826270  2.867984  1.350153  1.576485  2.766849  4.228887  3.915566   \n",
              "2  3.419615  3.112536  1.654553  3.749860  5.546700  4.269989  1.401541   \n",
              "3  2.298612  3.353943  1.820001  2.129130  2.610373  4.910376  4.944275   \n",
              "4  2.298612  3.353943  1.820001  2.129130  2.610373  4.910376  4.944275   \n",
              "\n",
              "       labels  \n",
              "0  male_happy  \n",
              "1  male_happy  \n",
              "2  male_happy  \n",
              "3  male_happy  \n",
              "4  male_happy  \n",
              "\n",
              "[5 rows x 41 columns]"
            ],
            "text/html": [
              "\n",
              "  <div id=\"df-958eac48-a500-4cc3-a93f-afa92ba4b307\">\n",
              "    <div class=\"colab-df-container\">\n",
              "      <div>\n",
              "<style scoped>\n",
              "    .dataframe tbody tr th:only-of-type {\n",
              "        vertical-align: middle;\n",
              "    }\n",
              "\n",
              "    .dataframe tbody tr th {\n",
              "        vertical-align: top;\n",
              "    }\n",
              "\n",
              "    .dataframe thead th {\n",
              "        text-align: right;\n",
              "    }\n",
              "</style>\n",
              "<table border=\"1\" class=\"dataframe\">\n",
              "  <thead>\n",
              "    <tr style=\"text-align: right;\">\n",
              "      <th></th>\n",
              "      <th>0</th>\n",
              "      <th>1</th>\n",
              "      <th>2</th>\n",
              "      <th>3</th>\n",
              "      <th>4</th>\n",
              "      <th>5</th>\n",
              "      <th>6</th>\n",
              "      <th>7</th>\n",
              "      <th>8</th>\n",
              "      <th>9</th>\n",
              "      <th>...</th>\n",
              "      <th>31</th>\n",
              "      <th>32</th>\n",
              "      <th>33</th>\n",
              "      <th>34</th>\n",
              "      <th>35</th>\n",
              "      <th>36</th>\n",
              "      <th>37</th>\n",
              "      <th>38</th>\n",
              "      <th>39</th>\n",
              "      <th>labels</th>\n",
              "    </tr>\n",
              "  </thead>\n",
              "  <tbody>\n",
              "    <tr>\n",
              "      <th>0</th>\n",
              "      <td>-258.990326</td>\n",
              "      <td>132.193741</td>\n",
              "      <td>5.314349</td>\n",
              "      <td>21.521330</td>\n",
              "      <td>-24.357752</td>\n",
              "      <td>-2.237025</td>\n",
              "      <td>-24.086287</td>\n",
              "      <td>-9.530801</td>\n",
              "      <td>-20.967497</td>\n",
              "      <td>-4.285268</td>\n",
              "      <td>...</td>\n",
              "      <td>-0.953883</td>\n",
              "      <td>1.146237</td>\n",
              "      <td>1.829600</td>\n",
              "      <td>2.893938</td>\n",
              "      <td>1.310414</td>\n",
              "      <td>1.626812</td>\n",
              "      <td>2.758013</td>\n",
              "      <td>4.257873</td>\n",
              "      <td>3.918041</td>\n",
              "      <td>male_happy</td>\n",
              "    </tr>\n",
              "    <tr>\n",
              "      <th>1</th>\n",
              "      <td>-258.667152</td>\n",
              "      <td>132.047682</td>\n",
              "      <td>5.236842</td>\n",
              "      <td>21.529129</td>\n",
              "      <td>-24.335813</td>\n",
              "      <td>-2.170860</td>\n",
              "      <td>-24.135509</td>\n",
              "      <td>-9.465332</td>\n",
              "      <td>-20.959675</td>\n",
              "      <td>-4.215839</td>\n",
              "      <td>...</td>\n",
              "      <td>-0.906946</td>\n",
              "      <td>1.140402</td>\n",
              "      <td>1.826270</td>\n",
              "      <td>2.867984</td>\n",
              "      <td>1.350153</td>\n",
              "      <td>1.576485</td>\n",
              "      <td>2.766849</td>\n",
              "      <td>4.228887</td>\n",
              "      <td>3.915566</td>\n",
              "      <td>male_happy</td>\n",
              "    </tr>\n",
              "    <tr>\n",
              "      <th>2</th>\n",
              "      <td>-301.181824</td>\n",
              "      <td>128.659897</td>\n",
              "      <td>4.380285</td>\n",
              "      <td>9.940308</td>\n",
              "      <td>-23.697367</td>\n",
              "      <td>-7.601327</td>\n",
              "      <td>-25.921268</td>\n",
              "      <td>-13.189119</td>\n",
              "      <td>-19.924520</td>\n",
              "      <td>-0.300373</td>\n",
              "      <td>...</td>\n",
              "      <td>3.321182</td>\n",
              "      <td>3.191138</td>\n",
              "      <td>3.419615</td>\n",
              "      <td>3.112536</td>\n",
              "      <td>1.654553</td>\n",
              "      <td>3.749860</td>\n",
              "      <td>5.546700</td>\n",
              "      <td>4.269989</td>\n",
              "      <td>1.401541</td>\n",
              "      <td>male_happy</td>\n",
              "    </tr>\n",
              "    <tr>\n",
              "      <th>3</th>\n",
              "      <td>-274.135437</td>\n",
              "      <td>142.405472</td>\n",
              "      <td>-2.322214</td>\n",
              "      <td>21.200804</td>\n",
              "      <td>-27.737436</td>\n",
              "      <td>-1.496183</td>\n",
              "      <td>-26.762552</td>\n",
              "      <td>-10.112954</td>\n",
              "      <td>-21.643480</td>\n",
              "      <td>-3.658734</td>\n",
              "      <td>...</td>\n",
              "      <td>-1.149690</td>\n",
              "      <td>1.346368</td>\n",
              "      <td>2.298612</td>\n",
              "      <td>3.353943</td>\n",
              "      <td>1.820001</td>\n",
              "      <td>2.129130</td>\n",
              "      <td>2.610373</td>\n",
              "      <td>4.910376</td>\n",
              "      <td>4.944275</td>\n",
              "      <td>male_happy</td>\n",
              "    </tr>\n",
              "    <tr>\n",
              "      <th>4</th>\n",
              "      <td>-274.135437</td>\n",
              "      <td>142.405472</td>\n",
              "      <td>-2.322214</td>\n",
              "      <td>21.200804</td>\n",
              "      <td>-27.737436</td>\n",
              "      <td>-1.496183</td>\n",
              "      <td>-26.762552</td>\n",
              "      <td>-10.112954</td>\n",
              "      <td>-21.643480</td>\n",
              "      <td>-3.658734</td>\n",
              "      <td>...</td>\n",
              "      <td>-1.149690</td>\n",
              "      <td>1.346368</td>\n",
              "      <td>2.298612</td>\n",
              "      <td>3.353943</td>\n",
              "      <td>1.820001</td>\n",
              "      <td>2.129130</td>\n",
              "      <td>2.610373</td>\n",
              "      <td>4.910376</td>\n",
              "      <td>4.944275</td>\n",
              "      <td>male_happy</td>\n",
              "    </tr>\n",
              "  </tbody>\n",
              "</table>\n",
              "<p>5 rows × 41 columns</p>\n",
              "</div>\n",
              "      <button class=\"colab-df-convert\" onclick=\"convertToInteractive('df-958eac48-a500-4cc3-a93f-afa92ba4b307')\"\n",
              "              title=\"Convert this dataframe to an interactive table.\"\n",
              "              style=\"display:none;\">\n",
              "        \n",
              "  <svg xmlns=\"http://www.w3.org/2000/svg\" height=\"24px\"viewBox=\"0 0 24 24\"\n",
              "       width=\"24px\">\n",
              "    <path d=\"M0 0h24v24H0V0z\" fill=\"none\"/>\n",
              "    <path d=\"M18.56 5.44l.94 2.06.94-2.06 2.06-.94-2.06-.94-.94-2.06-.94 2.06-2.06.94zm-11 1L8.5 8.5l.94-2.06 2.06-.94-2.06-.94L8.5 2.5l-.94 2.06-2.06.94zm10 10l.94 2.06.94-2.06 2.06-.94-2.06-.94-.94-2.06-.94 2.06-2.06.94z\"/><path d=\"M17.41 7.96l-1.37-1.37c-.4-.4-.92-.59-1.43-.59-.52 0-1.04.2-1.43.59L10.3 9.45l-7.72 7.72c-.78.78-.78 2.05 0 2.83L4 21.41c.39.39.9.59 1.41.59.51 0 1.02-.2 1.41-.59l7.78-7.78 2.81-2.81c.8-.78.8-2.07 0-2.86zM5.41 20L4 18.59l7.72-7.72 1.47 1.35L5.41 20z\"/>\n",
              "  </svg>\n",
              "      </button>\n",
              "      \n",
              "  <style>\n",
              "    .colab-df-container {\n",
              "      display:flex;\n",
              "      flex-wrap:wrap;\n",
              "      gap: 12px;\n",
              "    }\n",
              "\n",
              "    .colab-df-convert {\n",
              "      background-color: #E8F0FE;\n",
              "      border: none;\n",
              "      border-radius: 50%;\n",
              "      cursor: pointer;\n",
              "      display: none;\n",
              "      fill: #1967D2;\n",
              "      height: 32px;\n",
              "      padding: 0 0 0 0;\n",
              "      width: 32px;\n",
              "    }\n",
              "\n",
              "    .colab-df-convert:hover {\n",
              "      background-color: #E2EBFA;\n",
              "      box-shadow: 0px 1px 2px rgba(60, 64, 67, 0.3), 0px 1px 3px 1px rgba(60, 64, 67, 0.15);\n",
              "      fill: #174EA6;\n",
              "    }\n",
              "\n",
              "    [theme=dark] .colab-df-convert {\n",
              "      background-color: #3B4455;\n",
              "      fill: #D2E3FC;\n",
              "    }\n",
              "\n",
              "    [theme=dark] .colab-df-convert:hover {\n",
              "      background-color: #434B5C;\n",
              "      box-shadow: 0px 1px 3px 1px rgba(0, 0, 0, 0.15);\n",
              "      filter: drop-shadow(0px 1px 2px rgba(0, 0, 0, 0.3));\n",
              "      fill: #FFFFFF;\n",
              "    }\n",
              "  </style>\n",
              "\n",
              "      <script>\n",
              "        const buttonEl =\n",
              "          document.querySelector('#df-958eac48-a500-4cc3-a93f-afa92ba4b307 button.colab-df-convert');\n",
              "        buttonEl.style.display =\n",
              "          google.colab.kernel.accessAllowed ? 'block' : 'none';\n",
              "\n",
              "        async function convertToInteractive(key) {\n",
              "          const element = document.querySelector('#df-958eac48-a500-4cc3-a93f-afa92ba4b307');\n",
              "          const dataTable =\n",
              "            await google.colab.kernel.invokeFunction('convertToInteractive',\n",
              "                                                     [key], {});\n",
              "          if (!dataTable) return;\n",
              "\n",
              "          const docLinkHtml = 'Like what you see? Visit the ' +\n",
              "            '<a target=\"_blank\" href=https://colab.research.google.com/notebooks/data_table.ipynb>data table notebook</a>'\n",
              "            + ' to learn more about interactive tables.';\n",
              "          element.innerHTML = '';\n",
              "          dataTable['output_type'] = 'display_data';\n",
              "          await google.colab.output.renderOutput(dataTable, element);\n",
              "          const docLink = document.createElement('div');\n",
              "          docLink.innerHTML = docLinkHtml;\n",
              "          element.appendChild(docLink);\n",
              "        }\n",
              "      </script>\n",
              "    </div>\n",
              "  </div>\n",
              "  "
            ]
          },
          "metadata": {},
          "execution_count": 2
        }
      ]
    },
    {
      "cell_type": "code",
      "source": [
        "X = Emotions.drop('labels',axis = 1)\n",
        "Y = Emotions['labels']"
      ],
      "metadata": {
        "id": "YR24gb7ipCES"
      },
      "execution_count": null,
      "outputs": []
    },
    {
      "cell_type": "code",
      "source": [
        "from sklearn.preprocessing import OneHotEncoder,StandardScaler\n",
        "from sklearn.neural_network import MLPClassifier\n",
        "from sklearn.model_selection import train_test_split"
      ],
      "metadata": {
        "id": "9cKW1TXUpHX6"
      },
      "execution_count": null,
      "outputs": []
    },
    {
      "cell_type": "code",
      "source": [
        "encoder = OneHotEncoder()\n",
        "Y = encoder.fit_transform(np.array(Y).reshape(-1,1)).toarray()"
      ],
      "metadata": {
        "id": "YhmdrjsepJwR"
      },
      "execution_count": null,
      "outputs": []
    },
    {
      "cell_type": "code",
      "source": [
        "x_train,x_test,y_train,y_test = train_test_split(X,Y,test_size = 0.2,shuffle = True)"
      ],
      "metadata": {
        "id": "Z7eXPq7epMgN"
      },
      "execution_count": null,
      "outputs": []
    },
    {
      "cell_type": "code",
      "source": [
        "x_train.shape,y_train.shape,x_test.shape,y_test.shape"
      ],
      "metadata": {
        "colab": {
          "base_uri": "https://localhost:8080/"
        },
        "id": "exOXmNILpPSn",
        "outputId": "eccb06cb-8a23-42d2-e1a2-0355b10b208e"
      },
      "execution_count": null,
      "outputs": [
        {
          "output_type": "execute_result",
          "data": {
            "text/plain": [
              "((48648, 40), (48648, 14), (12162, 40), (12162, 14))"
            ]
          },
          "metadata": {},
          "execution_count": 7
        }
      ]
    },
    {
      "cell_type": "code",
      "source": [
        "scaler = StandardScaler()\n",
        "x_train = scaler.fit_transform(x_train)\n",
        "x_test = scaler.transform(x_test)\n",
        "x_train.shape, y_train.shape, x_test.shape, y_test.shape"
      ],
      "metadata": {
        "colab": {
          "base_uri": "https://localhost:8080/"
        },
        "id": "b7d2iP-3pYVa",
        "outputId": "7965c60e-d1e9-4f4c-a95b-ebf9bf15a5b9"
      },
      "execution_count": null,
      "outputs": [
        {
          "output_type": "execute_result",
          "data": {
            "text/plain": [
              "((48648, 40), (48648, 14), (12162, 40), (12162, 14))"
            ]
          },
          "metadata": {},
          "execution_count": 8
        }
      ]
    },
    {
      "cell_type": "code",
      "source": [
        "# decision tree \n",
        "from sklearn.tree import DecisionTreeClassifier\n",
        "clf = DecisionTreeClassifier()\n",
        "clf.fit(x_train,y_train)"
      ],
      "metadata": {
        "colab": {
          "base_uri": "https://localhost:8080/",
          "height": 51
        },
        "id": "a7IBtyRzpess",
        "outputId": "673b8a7b-c5b5-4c38-a441-c862149221cd"
      },
      "execution_count": null,
      "outputs": [
        {
          "output_type": "execute_result",
          "data": {
            "text/plain": [
              "DecisionTreeClassifier()"
            ],
            "text/html": [
              "<style>#sk-container-id-1 {color: black;background-color: white;}#sk-container-id-1 pre{padding: 0;}#sk-container-id-1 div.sk-toggleable {background-color: white;}#sk-container-id-1 label.sk-toggleable__label {cursor: pointer;display: block;width: 100%;margin-bottom: 0;padding: 0.3em;box-sizing: border-box;text-align: center;}#sk-container-id-1 label.sk-toggleable__label-arrow:before {content: \"▸\";float: left;margin-right: 0.25em;color: #696969;}#sk-container-id-1 label.sk-toggleable__label-arrow:hover:before {color: black;}#sk-container-id-1 div.sk-estimator:hover label.sk-toggleable__label-arrow:before {color: black;}#sk-container-id-1 div.sk-toggleable__content {max-height: 0;max-width: 0;overflow: hidden;text-align: left;background-color: #f0f8ff;}#sk-container-id-1 div.sk-toggleable__content pre {margin: 0.2em;color: black;border-radius: 0.25em;background-color: #f0f8ff;}#sk-container-id-1 input.sk-toggleable__control:checked~div.sk-toggleable__content {max-height: 200px;max-width: 100%;overflow: auto;}#sk-container-id-1 input.sk-toggleable__control:checked~label.sk-toggleable__label-arrow:before {content: \"▾\";}#sk-container-id-1 div.sk-estimator input.sk-toggleable__control:checked~label.sk-toggleable__label {background-color: #d4ebff;}#sk-container-id-1 div.sk-label input.sk-toggleable__control:checked~label.sk-toggleable__label {background-color: #d4ebff;}#sk-container-id-1 input.sk-hidden--visually {border: 0;clip: rect(1px 1px 1px 1px);clip: rect(1px, 1px, 1px, 1px);height: 1px;margin: -1px;overflow: hidden;padding: 0;position: absolute;width: 1px;}#sk-container-id-1 div.sk-estimator {font-family: monospace;background-color: #f0f8ff;border: 1px dotted black;border-radius: 0.25em;box-sizing: border-box;margin-bottom: 0.5em;}#sk-container-id-1 div.sk-estimator:hover {background-color: #d4ebff;}#sk-container-id-1 div.sk-parallel-item::after {content: \"\";width: 100%;border-bottom: 1px solid gray;flex-grow: 1;}#sk-container-id-1 div.sk-label:hover label.sk-toggleable__label {background-color: #d4ebff;}#sk-container-id-1 div.sk-serial::before {content: \"\";position: absolute;border-left: 1px solid gray;box-sizing: border-box;top: 0;bottom: 0;left: 50%;z-index: 0;}#sk-container-id-1 div.sk-serial {display: flex;flex-direction: column;align-items: center;background-color: white;padding-right: 0.2em;padding-left: 0.2em;position: relative;}#sk-container-id-1 div.sk-item {position: relative;z-index: 1;}#sk-container-id-1 div.sk-parallel {display: flex;align-items: stretch;justify-content: center;background-color: white;position: relative;}#sk-container-id-1 div.sk-item::before, #sk-container-id-1 div.sk-parallel-item::before {content: \"\";position: absolute;border-left: 1px solid gray;box-sizing: border-box;top: 0;bottom: 0;left: 50%;z-index: -1;}#sk-container-id-1 div.sk-parallel-item {display: flex;flex-direction: column;z-index: 1;position: relative;background-color: white;}#sk-container-id-1 div.sk-parallel-item:first-child::after {align-self: flex-end;width: 50%;}#sk-container-id-1 div.sk-parallel-item:last-child::after {align-self: flex-start;width: 50%;}#sk-container-id-1 div.sk-parallel-item:only-child::after {width: 0;}#sk-container-id-1 div.sk-dashed-wrapped {border: 1px dashed gray;margin: 0 0.4em 0.5em 0.4em;box-sizing: border-box;padding-bottom: 0.4em;background-color: white;}#sk-container-id-1 div.sk-label label {font-family: monospace;font-weight: bold;display: inline-block;line-height: 1.2em;}#sk-container-id-1 div.sk-label-container {text-align: center;}#sk-container-id-1 div.sk-container {/* jupyter's `normalize.less` sets `[hidden] { display: none; }` but bootstrap.min.css set `[hidden] { display: none !important; }` so we also need the `!important` here to be able to override the default hidden behavior on the sphinx rendered scikit-learn.org. See: https://github.com/scikit-learn/scikit-learn/issues/21755 */display: inline-block !important;position: relative;}#sk-container-id-1 div.sk-text-repr-fallback {display: none;}</style><div id=\"sk-container-id-1\" class=\"sk-top-container\"><div class=\"sk-text-repr-fallback\"><pre>DecisionTreeClassifier()</pre><b>In a Jupyter environment, please rerun this cell to show the HTML representation or trust the notebook. <br />On GitHub, the HTML representation is unable to render, please try loading this page with nbviewer.org.</b></div><div class=\"sk-container\" hidden><div class=\"sk-item\"><div class=\"sk-estimator sk-toggleable\"><input class=\"sk-toggleable__control sk-hidden--visually\" id=\"sk-estimator-id-1\" type=\"checkbox\" checked><label for=\"sk-estimator-id-1\" class=\"sk-toggleable__label sk-toggleable__label-arrow\">DecisionTreeClassifier</label><div class=\"sk-toggleable__content\"><pre>DecisionTreeClassifier()</pre></div></div></div></div></div>"
            ]
          },
          "metadata": {},
          "execution_count": 9
        }
      ]
    },
    {
      "cell_type": "code",
      "source": [
        "y_pred = clf.predict(x_test)"
      ],
      "metadata": {
        "id": "n-sstCaApfX1"
      },
      "execution_count": null,
      "outputs": []
    },
    {
      "cell_type": "code",
      "source": [
        "print(f'the training score for decision tree is {clf.score(x_train,y_train)}')"
      ],
      "metadata": {
        "colab": {
          "base_uri": "https://localhost:8080/"
        },
        "id": "J9og6TRTpmAC",
        "outputId": "6ad5e56f-bc9b-4623-85e3-ebfd959236c1"
      },
      "execution_count": null,
      "outputs": [
        {
          "output_type": "stream",
          "name": "stdout",
          "text": [
            "the training score for decision tree is 0.9997327742147674\n"
          ]
        }
      ]
    },
    {
      "cell_type": "code",
      "source": [
        "print(f'the test score for decision tree is {clf.score(x_test,y_test)}')"
      ],
      "metadata": {
        "colab": {
          "base_uri": "https://localhost:8080/"
        },
        "id": "zmUqkZ81poEK",
        "outputId": "68fd88bf-ae34-4fd4-df9e-fbc329ed4fc4"
      },
      "execution_count": null,
      "outputs": [
        {
          "output_type": "stream",
          "name": "stdout",
          "text": [
            "the test score for decision tree is 0.6275283670448939\n"
          ]
        }
      ]
    },
    {
      "cell_type": "markdown",
      "source": [
        "\n",
        "MLP CLASSIFIER"
      ],
      "metadata": {
        "id": "q2TGy13Ypspc"
      }
    },
    {
      "cell_type": "code",
      "source": [
        "from sklearn.neural_network import MLPClassifier\n",
        "clf2=MLPClassifier(alpha=0.01, batch_size=270, epsilon=1e-08, hidden_layer_sizes=(400,), learning_rate='adaptive', max_iter=400)\n",
        "clf2.fit(x_train,y_train)"
      ],
      "metadata": {
        "colab": {
          "base_uri": "https://localhost:8080/",
          "height": 106
        },
        "id": "4zoTRvo1pp1I",
        "outputId": "0ceff8e6-7a2c-40a6-fdc8-e7eef838e02f"
      },
      "execution_count": null,
      "outputs": [
        {
          "output_type": "stream",
          "name": "stderr",
          "text": [
            "/usr/local/lib/python3.8/dist-packages/sklearn/neural_network/_multilayer_perceptron.py:684: ConvergenceWarning: Stochastic Optimizer: Maximum iterations (400) reached and the optimization hasn't converged yet.\n",
            "  warnings.warn(\n"
          ]
        },
        {
          "output_type": "execute_result",
          "data": {
            "text/plain": [
              "MLPClassifier(alpha=0.01, batch_size=270, hidden_layer_sizes=(400,),\n",
              "              learning_rate='adaptive', max_iter=400)"
            ],
            "text/html": [
              "<style>#sk-container-id-2 {color: black;background-color: white;}#sk-container-id-2 pre{padding: 0;}#sk-container-id-2 div.sk-toggleable {background-color: white;}#sk-container-id-2 label.sk-toggleable__label {cursor: pointer;display: block;width: 100%;margin-bottom: 0;padding: 0.3em;box-sizing: border-box;text-align: center;}#sk-container-id-2 label.sk-toggleable__label-arrow:before {content: \"▸\";float: left;margin-right: 0.25em;color: #696969;}#sk-container-id-2 label.sk-toggleable__label-arrow:hover:before {color: black;}#sk-container-id-2 div.sk-estimator:hover label.sk-toggleable__label-arrow:before {color: black;}#sk-container-id-2 div.sk-toggleable__content {max-height: 0;max-width: 0;overflow: hidden;text-align: left;background-color: #f0f8ff;}#sk-container-id-2 div.sk-toggleable__content pre {margin: 0.2em;color: black;border-radius: 0.25em;background-color: #f0f8ff;}#sk-container-id-2 input.sk-toggleable__control:checked~div.sk-toggleable__content {max-height: 200px;max-width: 100%;overflow: auto;}#sk-container-id-2 input.sk-toggleable__control:checked~label.sk-toggleable__label-arrow:before {content: \"▾\";}#sk-container-id-2 div.sk-estimator input.sk-toggleable__control:checked~label.sk-toggleable__label {background-color: #d4ebff;}#sk-container-id-2 div.sk-label input.sk-toggleable__control:checked~label.sk-toggleable__label {background-color: #d4ebff;}#sk-container-id-2 input.sk-hidden--visually {border: 0;clip: rect(1px 1px 1px 1px);clip: rect(1px, 1px, 1px, 1px);height: 1px;margin: -1px;overflow: hidden;padding: 0;position: absolute;width: 1px;}#sk-container-id-2 div.sk-estimator {font-family: monospace;background-color: #f0f8ff;border: 1px dotted black;border-radius: 0.25em;box-sizing: border-box;margin-bottom: 0.5em;}#sk-container-id-2 div.sk-estimator:hover {background-color: #d4ebff;}#sk-container-id-2 div.sk-parallel-item::after {content: \"\";width: 100%;border-bottom: 1px solid gray;flex-grow: 1;}#sk-container-id-2 div.sk-label:hover label.sk-toggleable__label {background-color: #d4ebff;}#sk-container-id-2 div.sk-serial::before {content: \"\";position: absolute;border-left: 1px solid gray;box-sizing: border-box;top: 0;bottom: 0;left: 50%;z-index: 0;}#sk-container-id-2 div.sk-serial {display: flex;flex-direction: column;align-items: center;background-color: white;padding-right: 0.2em;padding-left: 0.2em;position: relative;}#sk-container-id-2 div.sk-item {position: relative;z-index: 1;}#sk-container-id-2 div.sk-parallel {display: flex;align-items: stretch;justify-content: center;background-color: white;position: relative;}#sk-container-id-2 div.sk-item::before, #sk-container-id-2 div.sk-parallel-item::before {content: \"\";position: absolute;border-left: 1px solid gray;box-sizing: border-box;top: 0;bottom: 0;left: 50%;z-index: -1;}#sk-container-id-2 div.sk-parallel-item {display: flex;flex-direction: column;z-index: 1;position: relative;background-color: white;}#sk-container-id-2 div.sk-parallel-item:first-child::after {align-self: flex-end;width: 50%;}#sk-container-id-2 div.sk-parallel-item:last-child::after {align-self: flex-start;width: 50%;}#sk-container-id-2 div.sk-parallel-item:only-child::after {width: 0;}#sk-container-id-2 div.sk-dashed-wrapped {border: 1px dashed gray;margin: 0 0.4em 0.5em 0.4em;box-sizing: border-box;padding-bottom: 0.4em;background-color: white;}#sk-container-id-2 div.sk-label label {font-family: monospace;font-weight: bold;display: inline-block;line-height: 1.2em;}#sk-container-id-2 div.sk-label-container {text-align: center;}#sk-container-id-2 div.sk-container {/* jupyter's `normalize.less` sets `[hidden] { display: none; }` but bootstrap.min.css set `[hidden] { display: none !important; }` so we also need the `!important` here to be able to override the default hidden behavior on the sphinx rendered scikit-learn.org. See: https://github.com/scikit-learn/scikit-learn/issues/21755 */display: inline-block !important;position: relative;}#sk-container-id-2 div.sk-text-repr-fallback {display: none;}</style><div id=\"sk-container-id-2\" class=\"sk-top-container\"><div class=\"sk-text-repr-fallback\"><pre>MLPClassifier(alpha=0.01, batch_size=270, hidden_layer_sizes=(400,),\n",
              "              learning_rate=&#x27;adaptive&#x27;, max_iter=400)</pre><b>In a Jupyter environment, please rerun this cell to show the HTML representation or trust the notebook. <br />On GitHub, the HTML representation is unable to render, please try loading this page with nbviewer.org.</b></div><div class=\"sk-container\" hidden><div class=\"sk-item\"><div class=\"sk-estimator sk-toggleable\"><input class=\"sk-toggleable__control sk-hidden--visually\" id=\"sk-estimator-id-2\" type=\"checkbox\" checked><label for=\"sk-estimator-id-2\" class=\"sk-toggleable__label sk-toggleable__label-arrow\">MLPClassifier</label><div class=\"sk-toggleable__content\"><pre>MLPClassifier(alpha=0.01, batch_size=270, hidden_layer_sizes=(400,),\n",
              "              learning_rate=&#x27;adaptive&#x27;, max_iter=400)</pre></div></div></div></div></div>"
            ]
          },
          "metadata": {},
          "execution_count": 13
        }
      ]
    },
    {
      "cell_type": "code",
      "source": [
        "print(f\"Training set score: {(clf2.score(x_train, y_train))}\")\n",
        "print(f\"Test set score: {(clf2.score(x_test, y_test))}\")"
      ],
      "metadata": {
        "colab": {
          "base_uri": "https://localhost:8080/"
        },
        "id": "PvTZulG_pvrz",
        "outputId": "953f7231-00c4-4093-f57f-d022f6553768"
      },
      "execution_count": null,
      "outputs": [
        {
          "output_type": "stream",
          "name": "stdout",
          "text": [
            "Training set score: 0.7818204242723237\n",
            "Test set score: 0.6355040289426082\n"
          ]
        }
      ]
    },
    {
      "cell_type": "markdown",
      "source": [
        "CNN"
      ],
      "metadata": {
        "id": "zqQ1E8ZCsDHR"
      }
    },
    {
      "cell_type": "code",
      "source": [
        "import tensorflow as tf\n",
        "import tensorflow_hub as hub\n",
        "from tensorflow.keras import Sequential\n",
        "from tensorflow.keras.layers import Conv1D,Dense,AveragePooling1D,Dropout,add,BatchNormalization,LSTM,Flatten,MaxPooling1D,GRU\n",
        "from tensorflow.keras.optimizers import Adam\n",
        "from tensorflow.keras.activations import relu, softmax\n",
        "from keras.activations import relu, softmax\n",
        "from sklearn.metrics import confusion_matrix,classification_report"
      ],
      "metadata": {
        "id": "2lPFi06ZsEF6"
      },
      "execution_count": null,
      "outputs": []
    },
    {
      "cell_type": "code",
      "source": [
        "#CNN\n",
        "x_traincnn =np.expand_dims(x_train, axis=2)\n",
        "x_testcnn= np.expand_dims(x_test, axis=2)\n",
        "x_traincnn.shape, y_train.shape, x_testcnn.shape, y_test.shape"
      ],
      "metadata": {
        "colab": {
          "base_uri": "https://localhost:8080/"
        },
        "id": "fhH2182jsFTx",
        "outputId": "832d6d23-1ede-4278-8588-a43944aed2a3"
      },
      "execution_count": null,
      "outputs": [
        {
          "output_type": "execute_result",
          "data": {
            "text/plain": [
              "((48648, 40, 1), (48648, 14), (12162, 40, 1), (12162, 14))"
            ]
          },
          "metadata": {},
          "execution_count": 16
        }
      ]
    },
    {
      "cell_type": "code",
      "source": [
        "my_model=Sequential()\n",
        "my_model.add(Conv1D(256, kernel_size=7, strides=1, padding='same', activation='relu', input_shape=(x_train.shape[1], 1)))\n",
        "my_model.add(MaxPooling1D(pool_size=2, strides = 2, padding = 'same'))\n",
        "my_model.add(BatchNormalization())\n",
        "\n",
        "my_model.add(Conv1D(128, kernel_size=7, strides=1, padding='same', activation='relu'))\n",
        "my_model.add(MaxPooling1D(pool_size=2, strides = 2, padding = 'same'))\n",
        "my_model.add(BatchNormalization())\n",
        "\n",
        "my_model.add(Conv1D(128, kernel_size=7, strides=1, padding='same', activation='relu'))\n",
        "my_model.add(MaxPooling1D(pool_size=2, strides = 2, padding = 'same'))\n",
        "my_model.add(BatchNormalization())\n",
        "\n",
        "\n",
        "my_model.add(Conv1D(64, kernel_size=7, strides=1, padding='same', activation='relu'))\n",
        "my_model.add(MaxPooling1D(pool_size=2, strides = 2, padding = 'same'))\n",
        "my_model.add(BatchNormalization())\n",
        "my_model.add(Dropout(0.5))\n",
        "        \n",
        "my_model.add(Flatten())\n",
        "my_model.add(Dense(units=32, activation='relu'))\n",
        "my_model.add(Dropout(0.5))\n",
        "\n",
        "my_model.add(Dense(units=14, activation='softmax'))\n",
        "my_model.compile(optimizer = 'adam' , loss = 'categorical_crossentropy' , metrics = ['accuracy'])\n",
        "\n",
        "my_model.summary()"
      ],
      "metadata": {
        "colab": {
          "base_uri": "https://localhost:8080/"
        },
        "id": "jhKM4FW-sMmd",
        "outputId": "cf3da948-4d85-4bdc-ef8d-8e52e6b44d9b"
      },
      "execution_count": null,
      "outputs": [
        {
          "output_type": "stream",
          "name": "stdout",
          "text": [
            "Model: \"sequential_1\"\n",
            "_________________________________________________________________\n",
            " Layer (type)                Output Shape              Param #   \n",
            "=================================================================\n",
            " conv1d_4 (Conv1D)           (None, 40, 256)           2048      \n",
            "                                                                 \n",
            " max_pooling1d_4 (MaxPooling  (None, 20, 256)          0         \n",
            " 1D)                                                             \n",
            "                                                                 \n",
            " batch_normalization_4 (Batc  (None, 20, 256)          1024      \n",
            " hNormalization)                                                 \n",
            "                                                                 \n",
            " conv1d_5 (Conv1D)           (None, 20, 128)           229504    \n",
            "                                                                 \n",
            " max_pooling1d_5 (MaxPooling  (None, 10, 128)          0         \n",
            " 1D)                                                             \n",
            "                                                                 \n",
            " batch_normalization_5 (Batc  (None, 10, 128)          512       \n",
            " hNormalization)                                                 \n",
            "                                                                 \n",
            " conv1d_6 (Conv1D)           (None, 10, 128)           114816    \n",
            "                                                                 \n",
            " max_pooling1d_6 (MaxPooling  (None, 5, 128)           0         \n",
            " 1D)                                                             \n",
            "                                                                 \n",
            " batch_normalization_6 (Batc  (None, 5, 128)           512       \n",
            " hNormalization)                                                 \n",
            "                                                                 \n",
            " conv1d_7 (Conv1D)           (None, 5, 64)             57408     \n",
            "                                                                 \n",
            " max_pooling1d_7 (MaxPooling  (None, 3, 64)            0         \n",
            " 1D)                                                             \n",
            "                                                                 \n",
            " batch_normalization_7 (Batc  (None, 3, 64)            256       \n",
            " hNormalization)                                                 \n",
            "                                                                 \n",
            " dropout_2 (Dropout)         (None, 3, 64)             0         \n",
            "                                                                 \n",
            " flatten_1 (Flatten)         (None, 192)               0         \n",
            "                                                                 \n",
            " dense_2 (Dense)             (None, 32)                6176      \n",
            "                                                                 \n",
            " dropout_3 (Dropout)         (None, 32)                0         \n",
            "                                                                 \n",
            " dense_3 (Dense)             (None, 14)                462       \n",
            "                                                                 \n",
            "=================================================================\n",
            "Total params: 412,718\n",
            "Trainable params: 411,566\n",
            "Non-trainable params: 1,152\n",
            "_________________________________________________________________\n"
          ]
        }
      ]
    },
    {
      "cell_type": "code",
      "source": [
        "history = my_model.fit(x_traincnn, y_train, batch_size=32, epochs=50, validation_data=(x_testcnn, y_test))"
      ],
      "metadata": {
        "colab": {
          "base_uri": "https://localhost:8080/"
        },
        "id": "5tMV2C7zsWLX",
        "outputId": "7716c668-7604-44d7-f3dc-44dd505c8a0f"
      },
      "execution_count": null,
      "outputs": [
        {
          "output_type": "stream",
          "name": "stdout",
          "text": [
            "Epoch 1/50\n",
            "1521/1521 [==============================] - 116s 73ms/step - loss: 1.9426 - accuracy: 0.3378 - val_loss: 1.3331 - val_accuracy: 0.5147\n",
            "Epoch 2/50\n",
            "1521/1521 [==============================] - 114s 75ms/step - loss: 1.4806 - accuracy: 0.4591 - val_loss: 1.1952 - val_accuracy: 0.5530\n",
            "Epoch 3/50\n",
            "1521/1521 [==============================] - 112s 73ms/step - loss: 1.3498 - accuracy: 0.5000 - val_loss: 1.1381 - val_accuracy: 0.5738\n",
            "Epoch 4/50\n",
            "1521/1521 [==============================] - 110s 72ms/step - loss: 1.2631 - accuracy: 0.5296 - val_loss: 1.0703 - val_accuracy: 0.5955\n",
            "Epoch 5/50\n",
            "1521/1521 [==============================] - 114s 75ms/step - loss: 1.1887 - accuracy: 0.5558 - val_loss: 0.9984 - val_accuracy: 0.6234\n",
            "Epoch 6/50\n",
            "1521/1521 [==============================] - 110s 73ms/step - loss: 1.1243 - accuracy: 0.5792 - val_loss: 0.9818 - val_accuracy: 0.6297\n",
            "Epoch 7/50\n",
            "1521/1521 [==============================] - 110s 72ms/step - loss: 1.0698 - accuracy: 0.6010 - val_loss: 0.9277 - val_accuracy: 0.6509\n",
            "Epoch 8/50\n",
            "1521/1521 [==============================] - 114s 75ms/step - loss: 1.0145 - accuracy: 0.6197 - val_loss: 0.8738 - val_accuracy: 0.6769\n",
            "Epoch 9/50\n",
            "1521/1521 [==============================] - 110s 72ms/step - loss: 0.9740 - accuracy: 0.6355 - val_loss: 0.8455 - val_accuracy: 0.6838\n",
            "Epoch 10/50\n",
            "1521/1521 [==============================] - 111s 73ms/step - loss: 0.9244 - accuracy: 0.6540 - val_loss: 0.8222 - val_accuracy: 0.6907\n",
            "Epoch 11/50\n",
            "1521/1521 [==============================] - 114s 75ms/step - loss: 0.8838 - accuracy: 0.6710 - val_loss: 0.7973 - val_accuracy: 0.7070\n",
            "Epoch 12/50\n",
            "1521/1521 [==============================] - 111s 73ms/step - loss: 0.8497 - accuracy: 0.6833 - val_loss: 0.7708 - val_accuracy: 0.7155\n",
            "Epoch 13/50\n",
            "1521/1521 [==============================] - 115s 76ms/step - loss: 0.8126 - accuracy: 0.7012 - val_loss: 0.7319 - val_accuracy: 0.7356\n",
            "Epoch 14/50\n",
            "1521/1521 [==============================] - 113s 74ms/step - loss: 0.7820 - accuracy: 0.7122 - val_loss: 0.7212 - val_accuracy: 0.7394\n",
            "Epoch 15/50\n",
            "1521/1521 [==============================] - 116s 76ms/step - loss: 0.7472 - accuracy: 0.7256 - val_loss: 0.7159 - val_accuracy: 0.7448\n",
            "Epoch 16/50\n",
            "1521/1521 [==============================] - 121s 80ms/step - loss: 0.7148 - accuracy: 0.7378 - val_loss: 0.7107 - val_accuracy: 0.7477\n",
            "Epoch 17/50\n",
            "1521/1521 [==============================] - 110s 73ms/step - loss: 0.7042 - accuracy: 0.7471 - val_loss: 0.7024 - val_accuracy: 0.7545\n",
            "Epoch 18/50\n",
            "1521/1521 [==============================] - 116s 76ms/step - loss: 0.6687 - accuracy: 0.7562 - val_loss: 0.6772 - val_accuracy: 0.7629\n",
            "Epoch 19/50\n",
            "1521/1521 [==============================] - 112s 74ms/step - loss: 0.6490 - accuracy: 0.7649 - val_loss: 0.6717 - val_accuracy: 0.7687\n",
            "Epoch 20/50\n",
            "1521/1521 [==============================] - 111s 73ms/step - loss: 0.6273 - accuracy: 0.7748 - val_loss: 0.6608 - val_accuracy: 0.7750\n",
            "Epoch 21/50\n",
            "1521/1521 [==============================] - 116s 77ms/step - loss: 0.6083 - accuracy: 0.7802 - val_loss: 0.6628 - val_accuracy: 0.7763\n",
            "Epoch 22/50\n",
            "1521/1521 [==============================] - 115s 76ms/step - loss: 0.5885 - accuracy: 0.7919 - val_loss: 0.6425 - val_accuracy: 0.7822\n",
            "Epoch 23/50\n",
            "1521/1521 [==============================] - 111s 73ms/step - loss: 0.5575 - accuracy: 0.8003 - val_loss: 0.6530 - val_accuracy: 0.7843\n",
            "Epoch 24/50\n",
            "1521/1521 [==============================] - 118s 78ms/step - loss: 0.5608 - accuracy: 0.8014 - val_loss: 0.6405 - val_accuracy: 0.7870\n",
            "Epoch 25/50\n",
            "1521/1521 [==============================] - 111s 73ms/step - loss: 0.5373 - accuracy: 0.8107 - val_loss: 0.6413 - val_accuracy: 0.7891\n",
            "Epoch 26/50\n",
            "1521/1521 [==============================] - 114s 75ms/step - loss: 0.5195 - accuracy: 0.8160 - val_loss: 0.6375 - val_accuracy: 0.7951\n",
            "Epoch 27/50\n",
            "1521/1521 [==============================] - 111s 73ms/step - loss: 0.5138 - accuracy: 0.8182 - val_loss: 0.6442 - val_accuracy: 0.7948\n",
            "Epoch 28/50\n",
            "1521/1521 [==============================] - 116s 77ms/step - loss: 0.4851 - accuracy: 0.8297 - val_loss: 0.6524 - val_accuracy: 0.7957\n",
            "Epoch 29/50\n",
            "1521/1521 [==============================] - 113s 75ms/step - loss: 0.4783 - accuracy: 0.8331 - val_loss: 0.6417 - val_accuracy: 0.8027\n",
            "Epoch 30/50\n",
            "1521/1521 [==============================] - 117s 77ms/step - loss: 0.4609 - accuracy: 0.8389 - val_loss: 0.6311 - val_accuracy: 0.8046\n",
            "Epoch 31/50\n",
            "1521/1521 [==============================] - 119s 78ms/step - loss: 0.4510 - accuracy: 0.8425 - val_loss: 0.6485 - val_accuracy: 0.8066\n",
            "Epoch 32/50\n",
            "1521/1521 [==============================] - 110s 72ms/step - loss: 0.4467 - accuracy: 0.8441 - val_loss: 0.6383 - val_accuracy: 0.8064\n",
            "Epoch 33/50\n",
            "1521/1521 [==============================] - 116s 76ms/step - loss: 0.4338 - accuracy: 0.8474 - val_loss: 0.6347 - val_accuracy: 0.8123\n",
            "Epoch 34/50\n",
            "1521/1521 [==============================] - 113s 74ms/step - loss: 0.4232 - accuracy: 0.8523 - val_loss: 0.6583 - val_accuracy: 0.8107\n",
            "Epoch 35/50\n",
            "1521/1521 [==============================] - 117s 77ms/step - loss: 0.4138 - accuracy: 0.8559 - val_loss: 0.6406 - val_accuracy: 0.8115\n",
            "Epoch 36/50\n",
            "1521/1521 [==============================] - 114s 75ms/step - loss: 0.4045 - accuracy: 0.8620 - val_loss: 0.6561 - val_accuracy: 0.8097\n",
            "Epoch 37/50\n",
            "1521/1521 [==============================] - 111s 73ms/step - loss: 0.4056 - accuracy: 0.8623 - val_loss: 0.6492 - val_accuracy: 0.8136\n",
            "Epoch 38/50\n",
            "1521/1521 [==============================] - 113s 74ms/step - loss: 0.3848 - accuracy: 0.8673 - val_loss: 0.6615 - val_accuracy: 0.8133\n",
            "Epoch 39/50\n",
            "1521/1521 [==============================] - 111s 73ms/step - loss: 0.3805 - accuracy: 0.8695 - val_loss: 0.6530 - val_accuracy: 0.8186\n",
            "Epoch 40/50\n",
            "1521/1521 [==============================] - 111s 73ms/step - loss: 0.3762 - accuracy: 0.8708 - val_loss: 0.6391 - val_accuracy: 0.8209\n",
            "Epoch 41/50\n",
            "1521/1521 [==============================] - 123s 81ms/step - loss: 0.3659 - accuracy: 0.8743 - val_loss: 0.6767 - val_accuracy: 0.8192\n",
            "Epoch 42/50\n",
            "1521/1521 [==============================] - 123s 81ms/step - loss: 0.3588 - accuracy: 0.8771 - val_loss: 0.6756 - val_accuracy: 0.8159\n",
            "Epoch 43/50\n",
            "1521/1521 [==============================] - 121s 80ms/step - loss: 0.3553 - accuracy: 0.8794 - val_loss: 0.7024 - val_accuracy: 0.8180\n",
            "Epoch 44/50\n",
            "1521/1521 [==============================] - 124s 82ms/step - loss: 0.3427 - accuracy: 0.8841 - val_loss: 0.6795 - val_accuracy: 0.8216\n",
            "Epoch 45/50\n",
            "1521/1521 [==============================] - 127s 83ms/step - loss: 0.3409 - accuracy: 0.8858 - val_loss: 0.6786 - val_accuracy: 0.8206\n",
            "Epoch 46/50\n",
            "1521/1521 [==============================] - 119s 78ms/step - loss: 0.3376 - accuracy: 0.8851 - val_loss: 0.7200 - val_accuracy: 0.8161\n",
            "Epoch 47/50\n",
            "1521/1521 [==============================] - 113s 74ms/step - loss: 0.3338 - accuracy: 0.8882 - val_loss: 0.6750 - val_accuracy: 0.8254\n",
            "Epoch 48/50\n",
            "1521/1521 [==============================] - 113s 74ms/step - loss: 0.3218 - accuracy: 0.8920 - val_loss: 0.6870 - val_accuracy: 0.8298\n",
            "Epoch 49/50\n",
            "1521/1521 [==============================] - 114s 75ms/step - loss: 0.3192 - accuracy: 0.8930 - val_loss: 0.7239 - val_accuracy: 0.8258\n",
            "Epoch 50/50\n",
            "1521/1521 [==============================] - 114s 75ms/step - loss: 0.3157 - accuracy: 0.8947 - val_loss: 0.7119 - val_accuracy: 0.8262\n"
          ]
        }
      ]
    },
    {
      "cell_type": "code",
      "source": [
        "print(\"Accuracy of our model on test data : \" , round(my_model.evaluate(x_testcnn,y_test)[1],2)*100 , \"%\")"
      ],
      "metadata": {
        "colab": {
          "base_uri": "https://localhost:8080/"
        },
        "id": "OqE5RnAZ_KEd",
        "outputId": "a6f0ebc9-c482-4d79-fe38-cfc95584d0fe"
      },
      "execution_count": null,
      "outputs": [
        {
          "output_type": "stream",
          "name": "stdout",
          "text": [
            "381/381 [==============================] - 6s 16ms/step - loss: 0.7119 - accuracy: 0.8262\n",
            "Accuracy of our model on test data :  83.0 %\n"
          ]
        }
      ]
    },
    {
      "cell_type": "code",
      "source": [
        "epochs = [i for i in range(50)]\n",
        "fig , ax = plt.subplots(1,2)\n",
        "train_acc = history.history['accuracy']\n",
        "train_loss = history.history['loss']\n",
        "test_acc = history.history['val_accuracy']\n",
        "test_loss = history.history['val_loss']\n",
        "\n",
        "fig.set_size_inches(15,5)\n",
        "ax[0].plot(epochs , train_loss , label = 'Training Loss')\n",
        "ax[0].plot(epochs , test_loss , label = 'Testing Loss')\n",
        "ax[0].set_title('Training & Testing Loss')\n",
        "ax[0].legend()\n",
        "ax[0].set_xlabel(\"Epochs\")\n",
        "\n",
        "ax[1].plot(epochs , train_acc , label = 'Training Accuracy')\n",
        "ax[1].plot(epochs , test_acc , label = 'Testing Accuracy')\n",
        "ax[1].set_title('Training & Testing Accuracy')\n",
        "ax[1].legend()\n",
        "ax[1].set_xlabel(\"Epochs\")\n",
        "plt.show()"
      ],
      "metadata": {
        "colab": {
          "base_uri": "https://localhost:8080/",
          "height": 350
        },
        "id": "0K806wSeEKBo",
        "outputId": "3f3f50a9-2cf8-4335-b017-0bd89e865eb6"
      },
      "execution_count": null,
      "outputs": [
        {
          "output_type": "display_data",
          "data": {
            "text/plain": [
              "<Figure size 1080x360 with 2 Axes>"
            ],
            "image/png": "[encoded data removed]"
          },
          "metadata": {
            "needs_background": "light"
          }
        }
      ]
    },
    {
      "cell_type": "markdown",
      "source": [
        "Confusion matrix"
      ],
      "metadata": {
        "id": "ECpJ7CqpEbYL"
      }
    },
    {
      "cell_type": "code",
      "source": [
        "# predicting on test data.\n",
        "pred_test = my_model.predict(x_testcnn)\n",
        "y_pred = encoder.inverse_transform(pred_test)\n",
        "y_test = encoder.inverse_transform(y_test)"
      ],
      "metadata": {
        "colab": {
          "base_uri": "https://localhost:8080/"
        },
        "id": "_VgqDi6_EaUI",
        "outputId": "114ea9eb-2e37-4da0-f1e0-bf1d8fe29421"
      },
      "execution_count": null,
      "outputs": [
        {
          "output_type": "stream",
          "name": "stdout",
          "text": [
            "381/381 [==============================] - 7s 18ms/step\n"
          ]
        }
      ]
    },
    {
      "cell_type": "code",
      "source": [
        "df = pd.DataFrame(columns=['Predicted Labels', 'Actual Labels'])\n",
        "df['Predicted Labels'] = y_pred.flatten()\n",
        "df['Actual Labels'] = y_test.flatten()"
      ],
      "metadata": {
        "id": "4KbMHLUmEg8e"
      },
      "execution_count": null,
      "outputs": []
    },
    {
      "cell_type": "code",
      "source": [
        "df"
      ],
      "metadata": {
        "colab": {
          "base_uri": "https://localhost:8080/",
          "height": 423
        },
        "id": "dsSBOsXfEjZf",
        "outputId": "2a27c9b0-c3c2-486c-8a65-bcd737ae6a30"
      },
      "execution_count": null,
      "outputs": [
        {
          "output_type": "execute_result",
          "data": {
            "text/plain": [
              "      Predicted Labels   Actual Labels\n",
              "0       female_neutral  female_neutral\n",
              "1           male_happy      male_happy\n",
              "2           male_angry      male_angry\n",
              "3       female_neutral  female_neutral\n",
              "4           female_sad      female_sad\n",
              "...                ...             ...\n",
              "12157      female_fear     female_fear\n",
              "12158     male_disgust      male_happy\n",
              "12159        male_fear       male_fear\n",
              "12160     male_disgust    male_disgust\n",
              "12161     female_angry    female_angry\n",
              "\n",
              "[12162 rows x 2 columns]"
            ],
            "text/html": [
              "\n",
              "  <div id=\"df-1f036d91-e237-4f13-a206-ceb8365f1330\">\n",
              "    <div class=\"colab-df-container\">\n",
              "      <div>\n",
              "<style scoped>\n",
              "    .dataframe tbody tr th:only-of-type {\n",
              "        vertical-align: middle;\n",
              "    }\n",
              "\n",
              "    .dataframe tbody tr th {\n",
              "        vertical-align: top;\n",
              "    }\n",
              "\n",
              "    .dataframe thead th {\n",
              "        text-align: right;\n",
              "    }\n",
              "</style>\n",
              "<table border=\"1\" class=\"dataframe\">\n",
              "  <thead>\n",
              "    <tr style=\"text-align: right;\">\n",
              "      <th></th>\n",
              "      <th>Predicted Labels</th>\n",
              "      <th>Actual Labels</th>\n",
              "    </tr>\n",
              "  </thead>\n",
              "  <tbody>\n",
              "    <tr>\n",
              "      <th>0</th>\n",
              "      <td>female_neutral</td>\n",
              "      <td>female_neutral</td>\n",
              "    </tr>\n",
              "    <tr>\n",
              "      <th>1</th>\n",
              "      <td>male_happy</td>\n",
              "      <td>male_happy</td>\n",
              "    </tr>\n",
              "    <tr>\n",
              "      <th>2</th>\n",
              "      <td>male_angry</td>\n",
              "      <td>male_angry</td>\n",
              "    </tr>\n",
              "    <tr>\n",
              "      <th>3</th>\n",
              "      <td>female_neutral</td>\n",
              "      <td>female_neutral</td>\n",
              "    </tr>\n",
              "    <tr>\n",
              "      <th>4</th>\n",
              "      <td>female_sad</td>\n",
              "      <td>female_sad</td>\n",
              "    </tr>\n",
              "    <tr>\n",
              "      <th>...</th>\n",
              "      <td>...</td>\n",
              "      <td>...</td>\n",
              "    </tr>\n",
              "    <tr>\n",
              "      <th>12157</th>\n",
              "      <td>female_fear</td>\n",
              "      <td>female_fear</td>\n",
              "    </tr>\n",
              "    <tr>\n",
              "      <th>12158</th>\n",
              "      <td>male_disgust</td>\n",
              "      <td>male_happy</td>\n",
              "    </tr>\n",
              "    <tr>\n",
              "      <th>12159</th>\n",
              "      <td>male_fear</td>\n",
              "      <td>male_fear</td>\n",
              "    </tr>\n",
              "    <tr>\n",
              "      <th>12160</th>\n",
              "      <td>male_disgust</td>\n",
              "      <td>male_disgust</td>\n",
              "    </tr>\n",
              "    <tr>\n",
              "      <th>12161</th>\n",
              "      <td>female_angry</td>\n",
              "      <td>female_angry</td>\n",
              "    </tr>\n",
              "  </tbody>\n",
              "</table>\n",
              "<p>12162 rows × 2 columns</p>\n",
              "</div>\n",
              "      <button class=\"colab-df-convert\" onclick=\"convertToInteractive('df-1f036d91-e237-4f13-a206-ceb8365f1330')\"\n",
              "              title=\"Convert this dataframe to an interactive table.\"\n",
              "              style=\"display:none;\">\n",
              "        \n",
              "  <svg xmlns=\"http://www.w3.org/2000/svg\" height=\"24px\"viewBox=\"0 0 24 24\"\n",
              "       width=\"24px\">\n",
              "    <path d=\"M0 0h24v24H0V0z\" fill=\"none\"/>\n",
              "    <path d=\"M18.56 5.44l.94 2.06.94-2.06 2.06-.94-2.06-.94-.94-2.06-.94 2.06-2.06.94zm-11 1L8.5 8.5l.94-2.06 2.06-.94-2.06-.94L8.5 2.5l-.94 2.06-2.06.94zm10 10l.94 2.06.94-2.06 2.06-.94-2.06-.94-.94-2.06-.94 2.06-2.06.94z\"/><path d=\"M17.41 7.96l-1.37-1.37c-.4-.4-.92-.59-1.43-.59-.52 0-1.04.2-1.43.59L10.3 9.45l-7.72 7.72c-.78.78-.78 2.05 0 2.83L4 21.41c.39.39.9.59 1.41.59.51 0 1.02-.2 1.41-.59l7.78-7.78 2.81-2.81c.8-.78.8-2.07 0-2.86zM5.41 20L4 18.59l7.72-7.72 1.47 1.35L5.41 20z\"/>\n",
              "  </svg>\n",
              "      </button>\n",
              "      \n",
              "  <style>\n",
              "    .colab-df-container {\n",
              "      display:flex;\n",
              "      flex-wrap:wrap;\n",
              "      gap: 12px;\n",
              "    }\n",
              "\n",
              "    .colab-df-convert {\n",
              "      background-color: #E8F0FE;\n",
              "      border: none;\n",
              "      border-radius: 50%;\n",
              "      cursor: pointer;\n",
              "      display: none;\n",
              "      fill: #1967D2;\n",
              "      height: 32px;\n",
              "      padding: 0 0 0 0;\n",
              "      width: 32px;\n",
              "    }\n",
              "\n",
              "    .colab-df-convert:hover {\n",
              "      background-color: #E2EBFA;\n",
              "      box-shadow: 0px 1px 2px rgba(60, 64, 67, 0.3), 0px 1px 3px 1px rgba(60, 64, 67, 0.15);\n",
              "      fill: #174EA6;\n",
              "    }\n",
              "\n",
              "    [theme=dark] .colab-df-convert {\n",
              "      background-color: #3B4455;\n",
              "      fill: #D2E3FC;\n",
              "    }\n",
              "\n",
              "    [theme=dark] .colab-df-convert:hover {\n",
              "      background-color: #434B5C;\n",
              "      box-shadow: 0px 1px 3px 1px rgba(0, 0, 0, 0.15);\n",
              "      filter: drop-shadow(0px 1px 2px rgba(0, 0, 0, 0.3));\n",
              "      fill: #FFFFFF;\n",
              "    }\n",
              "  </style>\n",
              "\n",
              "      <script>\n",
              "        const buttonEl =\n",
              "          document.querySelector('#df-1f036d91-e237-4f13-a206-ceb8365f1330 button.colab-df-convert');\n",
              "        buttonEl.style.display =\n",
              "          google.colab.kernel.accessAllowed ? 'block' : 'none';\n",
              "\n",
              "        async function convertToInteractive(key) {\n",
              "          const element = document.querySelector('#df-1f036d91-e237-4f13-a206-ceb8365f1330');\n",
              "          const dataTable =\n",
              "            await google.colab.kernel.invokeFunction('convertToInteractive',\n",
              "                                                     [key], {});\n",
              "          if (!dataTable) return;\n",
              "\n",
              "          const docLinkHtml = 'Like what you see? Visit the ' +\n",
              "            '<a target=\"_blank\" href=https://colab.research.google.com/notebooks/data_table.ipynb>data table notebook</a>'\n",
              "            + ' to learn more about interactive tables.';\n",
              "          element.innerHTML = '';\n",
              "          dataTable['output_type'] = 'display_data';\n",
              "          await google.colab.output.renderOutput(dataTable, element);\n",
              "          const docLink = document.createElement('div');\n",
              "          docLink.innerHTML = docLinkHtml;\n",
              "          element.appendChild(docLink);\n",
              "        }\n",
              "      </script>\n",
              "    </div>\n",
              "  </div>\n",
              "  "
            ]
          },
          "metadata": {},
          "execution_count": 24
        }
      ]
    },
    {
      "cell_type": "code",
      "source": [
        "import seaborn as sns"
      ],
      "metadata": {
        "id": "CJvLzjKFEq-m"
      },
      "execution_count": null,
      "outputs": []
    },
    {
      "cell_type": "code",
      "source": [
        "cm = confusion_matrix(y_test, y_pred)\n",
        "plt.figure(figsize = (9,6))\n",
        "cm = pd.DataFrame(cm , index = [i for i in encoder.categories_] , columns = [i for i in encoder.categories_])\n",
        "sns.heatmap(cm, linecolor='white', cmap='Blues', linewidth=1, annot=True, fmt='')\n",
        "plt.title('Confusion Matrix', size=20)\n",
        "plt.xlabel('Predicted Labels', size=14)\n",
        "plt.ylabel('Actual Labels', size=14)\n",
        "plt.show()"
      ],
      "metadata": {
        "colab": {
          "base_uri": "https://localhost:8080/",
          "height": 483
        },
        "id": "rSuDxIJ0Ek4H",
        "outputId": "c985b039-dfb6-4716-e867-a5c5553b3e44"
      },
      "execution_count": null,
      "outputs": [
        {
          "output_type": "display_data",
          "data": {
            "text/plain": [
              "<Figure size 648x432 with 2 Axes>"
            ],
            "image/png": "[encoded data removed]"
          },
          "metadata": {
            "needs_background": "light"
          }
        }
      ]
    },
    {
      "cell_type": "markdown",
      "source": [
        "Classification report"
      ],
      "metadata": {
        "id": "ww-d3JCzFCan"
      }
    },
    {
      "cell_type": "code",
      "source": [
        "print(classification_report(y_test, y_pred))"
      ],
      "metadata": {
        "colab": {
          "base_uri": "https://localhost:8080/"
        },
        "id": "X2fXZwh_E_4-",
        "outputId": "a0e64741-bd44-43a7-b499-16cd993c587b"
      },
      "execution_count": null,
      "outputs": [
        {
          "output_type": "stream",
          "name": "stdout",
          "text": [
            "                 precision    recall  f1-score   support\n",
            "\n",
            "   female_angry       0.91      0.91      0.91      1066\n",
            " female_disgust       0.81      0.87      0.84      1105\n",
            "    female_fear       0.89      0.85      0.87      1074\n",
            "   female_happy       0.89      0.87      0.88      1190\n",
            " female_neutral       0.90      0.89      0.89      1043\n",
            "     female_sad       0.87      0.87      0.87      1083\n",
            "female_surprise       0.98      0.98      0.98       543\n",
            "     male_angry       0.82      0.87      0.84       808\n",
            "   male_disgust       0.62      0.74      0.67       823\n",
            "      male_fear       0.74      0.65      0.69       775\n",
            "     male_happy       0.70      0.68      0.69       834\n",
            "   male_neutral       0.79      0.75      0.77       852\n",
            "       male_sad       0.78      0.75      0.76       812\n",
            "  male_surprise       0.96      0.85      0.90       154\n",
            "\n",
            "       accuracy                           0.83     12162\n",
            "      macro avg       0.83      0.82      0.83     12162\n",
            "   weighted avg       0.83      0.83      0.83     12162\n",
            "\n"
          ]
        }
      ]
    },
    {
      "cell_type": "code",
      "source": [
        "## saving model\n",
        "import os\n",
        "from datetime import datetime\n",
        "def save_model(model , suffix = None) :\n",
        "  modeldir = os.path.join('/content/drive/MyDrive/SPEECH EMOTION REGCONITION',datetime.now().strftime('%Y%m%d-%H%M%S'))\n",
        "  modelpath = modeldir + '-' + suffix + '.h5'\n",
        "  print(f'saving model into {modelpath}')\n",
        "  model.save(modelpath)\n",
        "  return modelpath"
      ],
      "metadata": {
        "id": "wCUOnslSEu_d"
      },
      "execution_count": null,
      "outputs": []
    },
    {
      "cell_type": "code",
      "source": [
        "save_model(my_model,suffix = 'speech_emotion_recognition_model')"
      ],
      "metadata": {
        "colab": {
          "base_uri": "https://localhost:8080/",
          "height": 53
        },
        "id": "mHu1DJqaFW2H",
        "outputId": "c1fdc00b-ed0e-4e03-97cc-bf46afe8ec25"
      },
      "execution_count": null,
      "outputs": [
        {
          "output_type": "stream",
          "name": "stdout",
          "text": [
            "saving model into /content/drive/MyDrive/SPEECH EMOTION REGCONITION/20230304-192456-speech_emotion_recognition_model.h5\n"
          ]
        },
        {
          "output_type": "execute_result",
          "data": {
            "text/plain": [
              "'/content/drive/MyDrive/SPEECH EMOTION REGCONITION/20230304-192456-speech_emotion_recognition_model.h5'"
            ],
            "application/vnd.google.colaboratory.intrinsic+json": {
              "type": "string"
            }
          },
          "metadata": {},
          "execution_count": 34
        }
      ]
    },
    {
      "cell_type": "markdown",
      "source": [
        "Emotion accuracy"
      ],
      "metadata": {
        "id": "6j1EO1suB5LO"
      }
    },
    {
      "cell_type": "code",
      "source": [
        "modidf = pd.read_csv(\"Predictions.csv\")\n",
        "modidf['actualvalues'] = modidf.ActualLabels.replace({'female_angry':'angry'\n",
        "                                       , 'female_disgust':'disgust'\n",
        "                                       , 'female_fear':'fear'\n",
        "                                       , 'female_happy':'happy'\n",
        "                                       , 'female_sad':'sad'\n",
        "                                       , 'female_surprise':'surprise'\n",
        "                                       , 'female_neutral':'neutral'\n",
        "                                       , 'male_angry':'angry'\n",
        "                                       , 'male_fear':'fear'\n",
        "                                       , 'male_happy':'happy'\n",
        "                                       , 'male_sad':'sad'\n",
        "                                       , 'male_surprise':'surprise'\n",
        "                                       , 'male_neutral':'neutral'\n",
        "                                       , 'male_disgust':'disgust'\n",
        "                                      })"
      ],
      "metadata": {
        "id": "0_UvqT8MB9vr"
      },
      "execution_count": null,
      "outputs": []
    },
    {
      "cell_type": "code",
      "source": [
        "from sklearn.metrics import confusion_matrix, accuracy_score, classification_report\n",
        "import seaborn as sns\n",
        "modidf['predictedvalues'] = modidf.PredictedLabels.replace({'female_angry':'angry'\n",
        "                                       , 'female_disgust':'disgust'\n",
        "                                       , 'female_fear':'fear'\n",
        "                                       , 'female_happy':'happy'\n",
        "                                       , 'female_sad':'sad'\n",
        "                                       , 'female_surprise':'surprise'\n",
        "                                       , 'female_neutral':'neutral'\n",
        "                                       , 'male_angry':'angry'\n",
        "                                       , 'male_fear':'fear'\n",
        "                                       , 'male_happy':'happy'\n",
        "                                       , 'male_sad':'sad'\n",
        "                                       , 'male_surprise':'surprise'\n",
        "                                       , 'male_neutral':'neutral'\n",
        "                                       , 'male_disgust':'disgust'\n",
        "                                      })\n",
        "\n",
        "classes = modidf.actualvalues.unique()  \n",
        "classes.sort() \n",
        "# Confusion matrix \n",
        "c = confusion_matrix(modidf.actualvalues, modidf.predictedvalues)\n",
        "print(accuracy_score(modidf.actualvalues, modidf.predictedvalues))"
      ],
      "metadata": {
        "id": "QIPabr1vB__Y"
      },
      "execution_count": null,
      "outputs": []
    },
    {
      "cell_type": "code",
      "source": [
        "cm = confusion_matrix(modidf.actualvalues, modidf.predictedvalues)\n",
        "plt.figure(figsize = (8,5))\n",
        "x= pd.DataFrame(cm,  columns=(classes), index=(classes))\n",
        "sns.heatmap(x, linecolor='white', cmap='Blues', linewidth=1, annot=True, fmt='')\n",
        "plt.title('Confusion Matrix', size=20)\n",
        "plt.xlabel('Predicted Labels', size=14)\n",
        "plt.ylabel('Actual Labels', size=14)\n",
        "plt.show()"
      ],
      "metadata": {
        "id": "4m4Lq1DsCCyb"
      },
      "execution_count": null,
      "outputs": []
    },
    {
      "cell_type": "code",
      "source": [],
      "metadata": {
        "id": "xNmjuu7kCEb4"
      },
      "execution_count": null,
      "outputs": []
    },
    {
      "cell_type": "markdown",
      "source": [
        "Classification report"
      ],
      "metadata": {
        "id": "3DS455eICHl2"
      }
    },
    {
      "cell_type": "code",
      "source": [
        "classes = modidf.actualvalues.unique()\n",
        "classes.sort()    \n",
        "print(classification_report(modidf.actualvalues, modidf.predictedvalues, target_names=classes))"
      ],
      "metadata": {
        "id": "Fs_MpTpVCKHB"
      },
      "execution_count": null,
      "outputs": []
    }
  ]
}